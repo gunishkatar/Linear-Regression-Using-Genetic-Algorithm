{
 "cells": [
  {
   "cell_type": "markdown",
   "metadata": {},
   "source": [
    "## Importing Libraries"
   ]
  },
  {
   "cell_type": "code",
   "execution_count": 1,
   "metadata": {},
   "outputs": [],
   "source": [
    "import numpy as np\n",
    "from matplotlib import pyplot as plt\n",
    "%matplotlib inline\n",
    "from sklearn.datasets import make_regression\n",
    "import seaborn as sns\n",
    "import random\n",
    "import torch"
   ]
  },
  {
   "cell_type": "markdown",
   "metadata": {},
   "source": [
    "## Dataset Creation"
   ]
  },
  {
   "cell_type": "code",
   "execution_count": 15,
   "metadata": {},
   "outputs": [
    {
     "name": "stdout",
     "output_type": "stream",
     "text": [
      "(500, 1) (500,) 9.863292457234852\n"
     ]
    }
   ],
   "source": [
    "X, y, cof = make_regression(n_samples=500, n_features=1, bias=4.2, noise=7.1, coef=True)\n",
    "print X.shape, y.shape, cof"
   ]
  },
  {
   "cell_type": "markdown",
   "metadata": {},
   "source": [
    "## Plotting Data Points"
   ]
  },
  {
   "cell_type": "code",
   "execution_count": 16,
   "metadata": {},
   "outputs": [
    {
     "data": {
      "text/plain": [
       "<matplotlib.collections.PathCollection at 0x7fdc4c97d050>"
      ]
     },
     "execution_count": 16,
     "metadata": {},
     "output_type": "execute_result"
    },
    {
     "data": {
      "image/png": "[encoded data removed]",
      "text/plain": [
       "<Figure size 432x288 with 1 Axes>"
      ]
     },
     "metadata": {},
     "output_type": "display_data"
    }
   ],
   "source": [
    "plt.xlim(-200, 200)\n",
    "plt.ylim(-200, 200)\n",
    "sns.plt.scatter(X[:, 0], y)"
   ]
  },
  {
   "cell_type": "markdown",
   "metadata": {},
   "source": [
    "## Data Preprocessing"
   ]
  },
  {
   "cell_type": "code",
   "execution_count": 17,
   "metadata": {},
   "outputs": [
    {
     "name": "stdout",
     "output_type": "stream",
     "text": [
      "(400, 1) (100, 1)\n",
      "(400,) (100,)\n"
     ]
    }
   ],
   "source": [
    "split = int(0.8 * X.shape[0])\n",
    "\n",
    "X_train = X[:split]\n",
    "X_test = X[split:]\n",
    "\n",
    "y_train = y[:split]\n",
    "y_test = y[split:]\n",
    "\n",
    "print X_train.shape, X_test.shape\n",
    "print y_train.shape, y_test.shape"
   ]
  },
  {
   "cell_type": "code",
   "execution_count": 18,
   "metadata": {},
   "outputs": [
    {
     "name": "stdout",
     "output_type": "stream",
     "text": [
      "(400, 1) (100, 1)\n"
     ]
    }
   ],
   "source": [
    "y_train = np.reshape(y_train,(-1,1))\n",
    "y_test = np.reshape(y_test,(-1,1))\n",
    "print y_train.shape, y_test.shape"
   ]
  },
  {
   "cell_type": "markdown",
   "metadata": {},
   "source": [
    "## Defining parameters(GA)"
   ]
  },
  {
   "cell_type": "code",
   "execution_count": 19,
   "metadata": {},
   "outputs": [],
   "source": [
    "# Define some initial params\n",
    "# Dimensionality\n",
    "Dn = 2                      # No. of Parameters in each NN\n",
    "\n",
    "# Mutation probability\n",
    "M = 0.1\n",
    "\n",
    "# Population size\n",
    "NP = 500\n",
    "\n",
    "# No. of generations\n",
    "G = 20                    # Number of Epochs"
   ]
  },
  {
   "cell_type": "code",
   "execution_count": 20,
   "metadata": {},
   "outputs": [],
   "source": [
    "def hypothesis(w, x=X_train):\n",
    "    return x*w[0] + w[1]"
   ]
  },
  {
   "cell_type": "markdown",
   "metadata": {},
   "source": [
    "## LOSS FUNCTION "
   ]
  },
  {
   "cell_type": "code",
   "execution_count": 21,
   "metadata": {},
   "outputs": [
    {
     "name": "stdout",
     "output_type": "stream",
     "text": [
      "(400, 1)\n"
     ]
    }
   ],
   "source": [
    "r = y_train\n",
    "def f(w):\n",
    "    y = hypothesis(w)\n",
    "    y = np.reshape(y,(-1,1))\n",
    "    #print y.shape\n",
    "    #print r.shape\n",
    "    return ((r - y)**2).mean()\n",
    "\n",
    "print r.shape"
   ]
  },
  {
   "cell_type": "code",
   "execution_count": 22,
   "metadata": {},
   "outputs": [
    {
     "name": "stdout",
     "output_type": "stream",
     "text": [
      "500\n"
     ]
    }
   ],
   "source": [
    "# Generate population\n",
    "# pop = np.zeros((NP, Dn))\n",
    "pop = []\n",
    "               \n",
    "for ix in range(NP):\n",
    "    # generate a random vector\n",
    "    vec = np.random.uniform(-100, 100, (Dn,))\n",
    "    #print vec\n",
    "    # Add to population\n",
    "    # pop[ix] = vec\n",
    "    pop.append(vec)\n",
    "\n",
    "print len(pop)"
   ]
  },
  {
   "cell_type": "code",
   "execution_count": 23,
   "metadata": {},
   "outputs": [
    {
     "data": {
      "text/plain": [
       "8657.627824894798"
      ]
     },
     "execution_count": 23,
     "metadata": {},
     "output_type": "execute_result"
    }
   ],
   "source": [
    "f(pop[0])"
   ]
  },
  {
   "cell_type": "code",
   "execution_count": 24,
   "metadata": {},
   "outputs": [],
   "source": [
    "def crossover(parent_1, parent_2):\n",
    "    child_1 = np.zeros(parent_1.shape)\n",
    "    child_2 = np.zeros(parent_2.shape)\n",
    "    \n",
    "    dim = int(parent_1.shape[0] / 2.0)\n",
    "    \n",
    "    child_1[:dim] = parent_1[:dim]\n",
    "    child_1[dim:] = parent_2[dim:]\n",
    "    \n",
    "    child_2[:dim] = parent_2[:dim]\n",
    "    child_2[dim:] = parent_1[dim:]\n",
    "    \n",
    "    return child_1, child_2\n",
    "\n",
    "def mutate(x):\n",
    "    for ix in range(x.shape[0]):\n",
    "        # Generate a random number for probability\n",
    "        R = np.random.random()\n",
    "        \n",
    "        if R < M:\n",
    "            # Mutate random index \n",
    "            x[ix] = np.random.uniform(-100, 100)\n",
    "        else:\n",
    "            pass\n",
    "    return x"
   ]
  },
  {
   "cell_type": "code",
   "execution_count": 25,
   "metadata": {
    "scrolled": true
   },
   "outputs": [
    {
     "name": "stdout",
     "output_type": "stream",
     "text": [
      "Generation: 0 | Best Value: 53.7159995853\n",
      "Generation: 1 | Best Value: 50.1536446513\n",
      "Generation: 2 | Best Value: 46.6490486916\n",
      "Generation: 3 | Best Value: 46.6490486916\n",
      "Generation: 4 | Best Value: 45.2270747222\n",
      "Generation: 5 | Best Value: 45.2270747222\n",
      "Generation: 6 | Best Value: 45.2079388221\n",
      "Generation: 7 | Best Value: 45.2079388221\n",
      "Generation: 8 | Best Value: 45.2079388221\n",
      "Generation: 9 | Best Value: 45.2079388221\n",
      "Generation: 10 | Best Value: 45.2079388221\n",
      "Generation: 11 | Best Value: 45.2075747959\n",
      "Generation: 12 | Best Value: 45.2075747959\n",
      "Generation: 13 | Best Value: 45.2075747959\n",
      "Generation: 14 | Best Value: 45.2075747959\n",
      "Generation: 15 | Best Value: 45.2075747959\n",
      "Generation: 16 | Best Value: 45.2075747959\n",
      "Generation: 17 | Best Value: 45.2075747959\n",
      "Generation: 18 | Best Value: 45.2075747959\n",
      "Generation: 19 | Best Value: 45.2075747959\n"
     ]
    }
   ],
   "source": [
    "loss = []\n",
    "\n",
    "# Main Genetic Algo loop\n",
    "for gx in range(G):\n",
    "    pop = sorted(pop, key=lambda z: f(z))\n",
    "    if True:#gx%10 == 0:\n",
    "        print \"Generation: {} | Best Value: {}\".format(gx, f(pop[0]))\n",
    "    loss.append(f(pop[0]))\n",
    "    \n",
    "    # create a temp population\n",
    "    temp = []\n",
    "    \n",
    "    while not len(temp) == NP:\n",
    "        # Select 2 parents from good section of population\n",
    "        p1, p2 = random.sample(pop[:int(NP/2.0)], 2)\n",
    "        #print p1\n",
    "        #print p2\n",
    "        # Apply crossover\n",
    "        c1, c2 = crossover(p1, p2)\n",
    "        \n",
    "        # mutate\n",
    "        c1 = mutate(c1)\n",
    "        c2 = mutate(c2)\n",
    "        \n",
    "        temp.append(c1)\n",
    "        temp.append(c2)\n",
    "    \n",
    "    # create a combined population\n",
    "    comb = temp + pop\n",
    "    \n",
    "    # survival of the fittest\n",
    "    pop = sorted(comb, key=lambda z: f(z))[:NP]"
   ]
  },
  {
   "cell_type": "code",
   "execution_count": 26,
   "metadata": {},
   "outputs": [
    {
     "data": {
      "text/plain": [
       "array([9.71139812, 4.1041624 ])"
      ]
     },
     "execution_count": 26,
     "metadata": {},
     "output_type": "execute_result"
    }
   ],
   "source": [
    "pop[0]"
   ]
  },
  {
   "cell_type": "code",
   "execution_count": 27,
   "metadata": {},
   "outputs": [
    {
     "data": {
      "text/plain": [
       "[<matplotlib.lines.Line2D at 0x7fdc4c908250>]"
      ]
     },
     "execution_count": 27,
     "metadata": {},
     "output_type": "execute_result"
    },
    {
     "data": {
      "image/png": "[encoded data removed]",
      "text/plain": [
       "<Figure size 432x288 with 1 Axes>"
      ]
     },
     "metadata": {},
     "output_type": "display_data"
    }
   ],
   "source": [
    "sns.plt.plot(loss)"
   ]
  },
  {
   "cell_type": "code",
   "execution_count": 28,
   "metadata": {},
   "outputs": [
    {
     "name": "stdout",
     "output_type": "stream",
     "text": [
      "[array([9.71139812, 4.1041624 ]), array([9.71139812, 4.1041624 ]), array([9.71139812, 4.1041624 ]), array([9.71139812, 4.1041624 ]), array([9.71139812, 4.1041624 ])]\n"
     ]
    }
   ],
   "source": [
    "print pop[0:5] #,'\\n', r"
   ]
  },
  {
   "cell_type": "code",
   "execution_count": 24,
   "metadata": {},
   "outputs": [],
   "source": [
    "#import torchvision.models as  mld\n",
    "#mld.alexnet(pretrained=True)"
   ]
  }
 ],
 "metadata": {
  "kernelspec": {
   "display_name": "Python 2",
   "language": "python",
   "name": "python2"
  },
  "language_info": {
   "codemirror_mode": {
    "name": "ipython",
    "version": 2
   },
   "file_extension": ".py",
   "mimetype": "text/x-python",
   "name": "python",
   "nbconvert_exporter": "python",
   "pygments_lexer": "ipython2",
   "version": "2.7.12"
  }
 },
 "nbformat": 4,
 "nbformat_minor": 2
}
